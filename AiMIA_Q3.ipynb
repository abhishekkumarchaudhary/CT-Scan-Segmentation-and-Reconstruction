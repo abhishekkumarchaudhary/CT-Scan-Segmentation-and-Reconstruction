{
  "nbformat": 4,
  "nbformat_minor": 0,
  "metadata": {
    "colab": {
      "provenance": []
    },
    "kernelspec": {
      "name": "python3",
      "display_name": "Python 3"
    },
    "language_info": {
      "name": "python"
    }
  },
  "cells": [
    {
      "cell_type": "code",
      "execution_count": 115,
      "metadata": {
        "id": "kxHCupqrCl6B"
      },
      "outputs": [],
      "source": [
        "import scipy.io\n",
        "import numpy as np\n",
        "from sklearn.cluster import KMeans\n",
        "import matplotlib.pyplot as plt\n",
        "import sys\n",
        "import timeit\n",
        "from sklearn.metrics import confusion_matrix\n",
        "import math\n",
        "from skimage.transform import rotate\n",
        "import scipy.fftpack as fft\n",
        "\n",
        "from skimage.metrics import peak_signal_noise_ratio as psnr\n",
        "from skimage.metrics import structural_similarity as ssim"
      ]
    },
    {
      "cell_type": "code",
      "source": [
        "from google.colab import drive\n",
        "drive.mount('/content/drive/')"
      ],
      "metadata": {
        "id": "sJ-LVQyOEYNU"
      },
      "execution_count": null,
      "outputs": []
    },
    {
      "cell_type": "code",
      "source": [
        "input = scipy.io.loadmat(\"/content/drive/MyDrive/Data/HW/ctscan_hw1.mat\")\n",
        "ct_scans = input['ctscan']\n",
        "ct_scans = np.array(ct_scans)\n",
        "ct_scans = np.swapaxes(ct_scans,0,2)\n",
        "ct_scans = np.swapaxes(ct_scans,1,2)\n",
        "print(ct_scans.shape)"
      ],
      "metadata": {
        "id": "JgogL8-OMANw"
      },
      "execution_count": null,
      "outputs": []
    },
    {
      "cell_type": "code",
      "source": [
        "input = scipy.io.loadmat(\"/content/drive/MyDrive/Data/HW/infmsk_hw1.mat\")\n",
        "mask = input['infmsk']\n",
        "mask = np.array(mask)\n",
        "mask = np.swapaxes(mask,0,2)\n",
        "mask = np.swapaxes(mask,1,2)\n",
        "print(mask.shape)"
      ],
      "metadata": {
        "id": "HU9c4j4sFFC1"
      },
      "execution_count": null,
      "outputs": []
    },
    {
      "cell_type": "code",
      "source": [
        "mask=mask[1010:1020,:,:]\n",
        "ct_scans=ct_scans[1010:1020,:,:]\n",
        "size = ct_scans.shape[0]\n",
        "print(size)"
      ],
      "metadata": {
        "id": "JKWBqBcxCUWc"
      },
      "execution_count": null,
      "outputs": []
    },
    {
      "cell_type": "code",
      "source": [
        "from sklearn.cluster import KMeans \n",
        "from numpy.ma.core import argsort\n",
        "def predicted_mask(ct_scans):\n",
        "  pred_masks = []\n",
        "  a=ct_scans.shape[1]\n",
        "  b=ct_scans.shape[2]\n",
        "  for i in range(ct_scans.shape[0]):\n",
        "    temp = ct_scans[i]/255\n",
        "    kmeans = KMeans(n_clusters=3, random_state=0)\n",
        "    clusters = kmeans.fit_predict(temp.reshape(a*b,1))\n",
        "    temp_pred_mask = clusters.reshape((512,512))\n",
        "    copy=temp_pred_mask\n",
        "    ct=[]\n",
        "    ct.append(np.count_nonzero(temp_pred_mask[:,:] == 0))\n",
        "    ct.append(np.count_nonzero(temp_pred_mask[:,:] == 1))\n",
        "    ct.append(np.count_nonzero(temp_pred_mask[:,:] == 2))\n",
        "\n",
        "    max_val=max(ct)\n",
        "    b1=ct.index(max_val)\n",
        "    mask1=(temp_pred_mask==b1)\n",
        "    copy[mask1]=0\n",
        "\n",
        "    min_val=min(ct)\n",
        "    b2=ct.index(min_val)\n",
        "    mask2=(temp_pred_mask==b2)\n",
        "    copy[mask2]=1\n",
        "\n",
        "    b3=3-b1-b2\n",
        "    mask3=(temp_pred_mask==b3)\n",
        "    copy[mask3]=2\n",
        "\n",
        "    pred_masks.append(copy)\n",
        "  return pred_masks"
      ],
      "metadata": {
        "id": "TcqWGGe_FIMr"
      },
      "execution_count": 154,
      "outputs": []
    },
    {
      "cell_type": "code",
      "source": [
        "#Convert image into a sinogram\n",
        "def radon_transform(img, rots = 4): # rots is 4X or 8X\n",
        "    from skimage.transform import rotate\n",
        "    #Turns image into sinogram\n",
        "    projections = []\n",
        "    dTheta = -rots\n",
        "    steps = int(180/rots)\n",
        "\n",
        "    for i in range(steps):\n",
        "        projections.append(rotate(img,i*dTheta).sum(axis=0))\n",
        "    return np.vstack(projections)\n",
        "\n",
        "# def fft_translate(projs):\n",
        "#     #Build 1-d FFTs of an array of projections, each projection 1 row of the array.\n",
        "#     return fft.rfft(projs, axis=1)\n",
        "\n",
        "# def ramp_filter(ffts):\n",
        "#     #Ramp filter a 2-d array of 1-d FFTs (1-d FFTs along the rows).\n",
        "#     ramp = np.floor(np.arange(0.5, ffts.shape[1]//2 + 0.1, 0.5))\n",
        "#     return ffts * ramp\n",
        "\n",
        "# def inverse_fft_translate(operator):\n",
        "#     return fft.irfft(operator, axis=1)\n",
        "\n",
        "def back_project(operator): \n",
        "  operator = fft.rfft(operator, axis=1)   \n",
        "  operator = operator*np.floor(np.arange(0.5, operator.shape[1]//2 + 0.1, 0.5))   #ramp_filter(operator)\n",
        "  operator = fft.irfft(operator, axis=1)   #inverse_fft_translate(operator)\n",
        "  laminogram = np.zeros((operator.shape[1],operator.shape[1]))\n",
        "  dTheta = 180.0 / operator.shape[0]\n",
        "  for i in range(operator.shape[0]):\n",
        "    temp = np.tile(operator[i],(operator.shape[1],1))\n",
        "    temp = rotate(temp, dTheta*i)\n",
        "    laminogram += temp\n",
        "  return laminogram"
      ],
      "metadata": {
        "id": "DuNXFy-fFwzc"
      },
      "execution_count": 155,
      "outputs": []
    },
    {
      "cell_type": "code",
      "source": [
        "reconstructed_ct_scans_4x = []\n",
        "from skimage.transform import radon, rescale, iradon\n",
        "for i in range(size):\n",
        "  # print(i)\n",
        "  # t=radon_transform(ct_scans[i], rots = 4)\n",
        "  t=radon(ct_scans[i],circle=False,preserve_range=True)\n",
        "  t = np.array([t[:, i] for i in range(0, 180, 4)])\n",
        "  t2 = iradon(t.T, circle=False, preserve_range=True)\n",
        "  # t2=back_project(t)\n",
        "  reconstructed_ct_scans_4x.append(t2)\n",
        "\n",
        "reconstructed_ct_scans_8x = []\n",
        "for i in range(size):\n",
        "  # print(i)\n",
        "  # reconstructed_ct_scans_8x.append(back_project(radon_transform(ct_scans[i], rots = 8)))\n",
        "  t=radon(ct_scans[i],circle=False,preserve_range=True)\n",
        "  t = np.array([t[:, i] for i in range(0, 180, 8)])\n",
        "  t2 = iradon(t.T, circle=False, preserve_range=True)\n",
        "  reconstructed_ct_scans_8x.append(t2)"
      ],
      "metadata": {
        "id": "E6_mnYua9JIB"
      },
      "execution_count": 156,
      "outputs": []
    },
    {
      "cell_type": "code",
      "source": [
        "avg_psnr_4x = 0\n",
        "avg_ssim_4x = 0\n",
        "for i in range(size):\n",
        "  avg_psnr_4x += psnr(ct_scans[i],reconstructed_ct_scans_4x[i])\n",
        "  avg_ssim_4x += ssim(ct_scans[i],reconstructed_ct_scans_4x[i])\n",
        "    \n",
        "avg_psnr_4x = avg_psnr_4x/size\n",
        "avg_ssim_4x = avg_ssim_4x/size\n",
        "\n",
        "print(\"PSNR 4x Reconstruction: \", avg_psnr_4x)\n",
        "print(\"SSIM 4x Reconstruction: \", avg_ssim_4x)"
      ],
      "metadata": {
        "id": "6yfI5W92-kb_"
      },
      "execution_count": null,
      "outputs": []
    },
    {
      "cell_type": "code",
      "source": [
        "from sklearn.metrics import confusion_matrix\n",
        "import warnings\n",
        "warnings.filterwarnings('ignore')\n",
        "def give_metrics(y, y_pred):\n",
        "  y_pred = np.array(y_pred)\n",
        "  N = y_pred.shape[0]\n",
        "  total_infection_sensitivity = 0\n",
        "  total_infection_specificity = 0\n",
        "  total_infection_accuracy = 0\n",
        "  total_infection_dice_score = 0\n",
        "  \n",
        "  total_normal_sensitivity = 0\n",
        "  total_normal_specificity = 0\n",
        "  total_normal_accuracy = 0\n",
        "  total_normal_dice_score = 0\n",
        "\n",
        "  count_infection_sensitivity = 0               \n",
        "\n",
        "  for i in range(y_pred.shape[0]):\n",
        "    infection_sensitivity = 0\n",
        "    #Getting confusion matrix\n",
        "    confusion_metric = (confusion_matrix(y[i].flatten(), y_pred[i].flatten(),labels=[0,1,2])).T\n",
        "\n",
        "    #Getting TP/FP/FN/TN\n",
        "    TP_infection = confusion_metric[1][1]\n",
        "    TP_normal = confusion_metric[2][2]\n",
        "\n",
        "    TN_infection = confusion_metric[0][0] + confusion_metric[2][0] + confusion_metric[0][2] + confusion_metric[2][2]\n",
        "    TN_normal = confusion_metric[0][0] + confusion_metric[0][1] + confusion_metric[1][0] + confusion_metric[1][1]\n",
        "    \n",
        "    FP_infection = confusion_metric[1][0] + confusion_metric[1][2]\n",
        "    FP_normal = confusion_metric[2][0] + confusion_metric[2][1] \n",
        "\n",
        "    FN_infection = confusion_metric[0][1] + confusion_metric[2][1]\n",
        "    FN_normal = confusion_metric[0][2] + confusion_metric[1][2]\n",
        "        \n",
        "    #calculating metrics    \n",
        "    infection_specificity = (TN_infection)/(TN_infection+FP_infection)\n",
        "    infection_accuracy = (TP_infection+TN_infection)/(TP_infection+TN_infection+FP_infection+FN_infection)\n",
        "    infection_dice_score = (2*TP_infection)/(2*TP_infection + FP_infection + FN_infection)\n",
        "\n",
        "    normal_sensitivity = (TP_normal)/(TP_normal+FN_normal)\n",
        "    normal_specificity = (TN_normal)/(TN_normal+FP_normal)\n",
        "    normal_accuracy = (TP_normal+TN_normal)/(TP_normal+TN_normal+FP_normal+FN_normal)\n",
        "    normal_dice_score = (2*TP_normal)/(2*TP_normal + FP_normal + FN_normal)\n",
        "    \n",
        "    if((TP_infection+FN_infection)!=0):\n",
        "      count_infection_sensitivity += 1\n",
        "      infection_sensitivity = (TP_infection)/(TP_infection+FN_infection)\n",
        "    \n",
        "    # normal_sensitivity = 0\n",
        "    # if((normal_TP+infectio_FN)!=0):\n",
        "    #   count_infection_sensitivity += 1\n",
        "    #   infection_sensitivity = (infection_TP)/(infection_TP+infection_FN)\n",
        "\n",
        "    total_infection_sensitivity += infection_sensitivity\n",
        "    total_normal_sensitivity += normal_sensitivity\n",
        "    total_infection_specificity += infection_specificity\n",
        "    total_normal_specificity += normal_specificity\n",
        "    total_infection_accuracy += infection_accuracy\n",
        "    total_normal_accuracy += normal_accuracy\n",
        "    total_infection_dice_score += infection_dice_score\n",
        "    total_normal_dice_score += normal_dice_score\n",
        "  #finding avg and printing \n",
        "  print(f\"Averaged dice score = {total_normal_dice_score/N}, sensitivity = {total_normal_sensitivity/N}, \\n specificity = {total_normal_specificity/N}, and accuracy = {total_normal_accuracy/N} for the normal\")\n",
        "  print(f\"\\nAveraged dice score = {total_infection_dice_score/N}\")\n",
        "  print(f\", sensitivity = {total_infection_sensitivity/(count_infection_sensitivity+0.0001)}\")\n",
        "  print(f\"\\n specificity = {total_infection_specificity/N},\")\n",
        "  print(f\"and accuracy = {total_infection_accuracy/N} for the infection\")"
      ],
      "metadata": {
        "id": "DV3d4BMY--el"
      },
      "execution_count": 158,
      "outputs": []
    },
    {
      "cell_type": "code",
      "source": [
        "avg_psnr_8x = 0\n",
        "avg_ssim_8x = 0\n",
        "for i in range(size):\n",
        "  avg_psnr_8x += psnr(ct_scans[i],reconstructed_ct_scans_8x[i])\n",
        "  avg_ssim_8x += ssim(ct_scans[i],reconstructed_ct_scans_8x[i])\n",
        "    \n",
        "avg_psnr_8x = avg_psnr_8x/size\n",
        "avg_ssim_8x = avg_ssim_8x/size\n",
        "\n",
        "print(\"PSNR 8x Reconstruction: \", avg_psnr_8x)\n",
        "print(\"SSIM 8x Reconstruction: \", avg_ssim_8x)"
      ],
      "metadata": {
        "id": "s3LEydag-uwB"
      },
      "execution_count": null,
      "outputs": []
    },
    {
      "cell_type": "code",
      "source": [
        "# print(reconstruct_4x.reconstructed_ct_scans)\n",
        "pred_masks_4x = predicted_mask(np.array(reconstructed_ct_scans_4x))\n",
        "# print(pred_masks_4x)\n",
        "print(\"Evaluation Metrics for 4x Reconstruction\")\n",
        "pred_masks_8x = predicted_mask(np.array(reconstructed_ct_scans_8x))\n",
        "print(\"Evaluation Metrics for 8x Reconstruction\")"
      ],
      "metadata": {
        "id": "Nj_vy1PF-yY-"
      },
      "execution_count": null,
      "outputs": []
    },
    {
      "cell_type": "code",
      "source": [
        "\n",
        "give_metrics(mask, np.array(pred_masks_4x))\n",
        "give_metrics(mask, np.array(pred_masks_8x))\n"
      ],
      "metadata": {
        "id": "p2cOc1SsRdZs"
      },
      "execution_count": null,
      "outputs": []
    },
    {
      "cell_type": "code",
      "source": [
        "plt.rcParams[\"figure.figsize\"] = (12,12)\n",
        "i = 5\n",
        "f, axarr = plt.subplots(1,3)\n",
        "axarr[0].set_title(\"4x Reconstruction\")\n",
        "axarr[0].imshow(reconstructed_ct_scans_4x[i], cmap='gray')\n",
        "axarr[1].set_title(\"8x Reconstruction\")\n",
        "axarr[1].imshow(reconstructed_ct_scans_8x[i], cmap='gray')\n",
        "axarr[2].set_title(\"CT Scans\")\n",
        "axarr[2].imshow(ct_scans[i], cmap='gray')\n",
        "f.tight_layout()\n",
        "plt.show()"
      ],
      "metadata": {
        "id": "C6KTC-lSU0A0"
      },
      "execution_count": null,
      "outputs": []
    }
  ]
}
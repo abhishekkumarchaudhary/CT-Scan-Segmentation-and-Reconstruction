{
  "nbformat": 4,
  "nbformat_minor": 0,
  "metadata": {
    "colab": {
      "provenance": []
    },
    "kernelspec": {
      "name": "python3",
      "display_name": "Python 3"
    },
    "language_info": {
      "name": "python"
    }
  },
  "cells": [
    {
      "cell_type": "markdown",
      "source": [
        "Reading data:"
      ],
      "metadata": {
        "id": "gvdr_cmzsK6J"
      }
    },
    {
      "cell_type": "code",
      "execution_count": null,
      "metadata": {
        "colab": {
          "base_uri": "https://localhost:8080/"
        },
        "id": "E2iWjyFIrcSu",
        "outputId": "73ecc47a-3348-4296-9a1b-b16c06239d19"
      },
      "outputs": [
        {
          "output_type": "stream",
          "name": "stdout",
          "text": [
            "Mounted at /content/drive/\n"
          ]
        }
      ],
      "source": [
        "from google.colab import drive\n",
        "import scipy.io\n",
        "drive.mount('/content/drive/')\n",
        "mask_data = scipy.io.loadmat(\"/content/drive/MyDrive/Data/HW/infmsk_hw1.mat\")"
      ]
    },
    {
      "cell_type": "code",
      "source": [
        "import numpy as np\n",
        "mask = mask_data['infmsk']\n",
        "print(mask.shape[2])\n",
        "background_ctr = []\n",
        "infection_ctr = []\n",
        "healthy_ctr = []\n",
        "mask=np.swapaxes(mask,0,2)\n",
        "print(mask.shape)\n",
        "for i in range(mask.shape[0]):\n",
        "  background_ctr.append(np.count_nonzero(mask[i,:,:] == 0))\n",
        "  infection_ctr.append(np.count_nonzero(mask[i,:,:] == 1))\n",
        "  healthy_ctr.append(np.count_nonzero(mask[i,:,:] == 2))"
      ],
      "metadata": {
        "colab": {
          "base_uri": "https://localhost:8080/"
        },
        "id": "5lzQU2umtQbp",
        "outputId": "07fac90c-db39-4f39-8350-922f2868ad53"
      },
      "execution_count": null,
      "outputs": [
        {
          "output_type": "stream",
          "name": "stdout",
          "text": [
            "3554\n",
            "(3554, 512, 512)\n"
          ]
        }
      ]
    },
    {
      "cell_type": "code",
      "source": [
        "infection_rate = []\n",
        "for i in range(mask.shape[0]):\n",
        "  inf_rate = (infection_ctr[i]/(infection_ctr[i]+healthy_ctr[i])) * 100\n",
        "  infection_rate.append(inf_rate)\n",
        "healthy=0\n",
        "mild=0\n",
        "severe=0\n",
        "for i in range(len(infection_rate)):\n",
        "  if(infection_rate[i] == 0.0):\n",
        "    healthy += 1\n",
        "  if(infection_rate[i]> 0.0 and infection_rate[i] <= 40.0):\n",
        "    mild += 1\n",
        "  if(infection_rate[i] > 40.0):\n",
        "    severe += 1"
      ],
      "metadata": {
        "id": "DmvZNkMTwGbi"
      },
      "execution_count": null,
      "outputs": []
    },
    {
      "cell_type": "markdown",
      "source": [
        "Display a sample for each category's infection mask and infection\n",
        "rate"
      ],
      "metadata": {
        "id": "2hCR3agG--FY"
      }
    },
    {
      "cell_type": "code",
      "source": [
        "print(f\"Healthy={healthy} ,Mild={mild} ,Severe={severe}\")   #.format(healthy,mild,severe))"
      ],
      "metadata": {
        "colab": {
          "base_uri": "https://localhost:8080/"
        },
        "id": "fajrKDU457Ol",
        "outputId": "0015f8ff-e952-4e48-f497-51b64f6d5fa2"
      },
      "execution_count": null,
      "outputs": [
        {
          "output_type": "stream",
          "name": "stdout",
          "text": [
            "Healthy=1441 ,Mild=1954 ,Severe=159\n"
          ]
        }
      ]
    },
    {
      "cell_type": "markdown",
      "source": [
        "Display a sample for each category's infection mask and infection rate"
      ],
      "metadata": {
        "id": "jtr372Zk_BsQ"
      }
    },
    {
      "cell_type": "code",
      "source": [
        "import matplotlib.pyplot as plt\n",
        "ctr=0\n",
        "t1,t2,t3=0,0,0\n",
        "for i in range(len(infection_rate)):\n",
        "  if t1 ==1 and t2 == 1 and t3 == 1:\n",
        "    break\n",
        "  if i>1000:\n",
        "    if infection_rate[i] == 0.0 and t1 == 0:\n",
        "      print(f\"Infection lung with infection rate {infection_rate[i]}\")\n",
        "      plt.imshow(np.transpose(mask[i,:,:]),cmap='gray')\n",
        "      plt.show()\n",
        "      print(\"-------------------------\")\n",
        "      t1=1\n",
        "    if infection_rate[i]> 0.0 and infection_rate[i] <= 40.0 and t2==0:\n",
        "      print(f\"Mild lung with infection rate {infection_rate[i]}\")\n",
        "      plt.imshow(np.transpose(mask[i,:,:]),cmap='gray')\n",
        "      plt.show()\n",
        "      print(\"-------------------------\")\n",
        "      t2=1\n",
        "    if infection_rate[i] > 40.0 and t3==0:\n",
        "      print(f\"Severe lung with infection rate {infection_rate[i]}\")\n",
        "      plt.imshow(np.transpose(mask[i,:,:]),cmap='gray')\n",
        "      plt.show()\n",
        "      print(\"-------------------------\")\n",
        "      t3=1"
      ],
      "metadata": {
        "colab": {
          "base_uri": "https://localhost:8080/",
          "height": 877
        },
        "id": "BE_qbixV7a6k",
        "outputId": "4c6e5e57-9b1f-4aad-bbe6-787dde4b89de"
      },
      "execution_count": null,
      "outputs": [
        {
          "output_type": "stream",
          "name": "stdout",
          "text": [
            "Mild lung with infection rate 7.576433182761094\n"
          ]
        },
        {
          "output_type": "display_data",
          "data": {
            "text/plain": [
              "<Figure size 432x288 with 1 Axes>"
            ],
            "image/png": "[encoded data removed]"
          },
          "metadata": {
            "needs_background": "light"
          }
        },
        {
          "output_type": "stream",
          "name": "stdout",
          "text": [
            "-------------------------\n",
            "Infection lung with infection rate 0.0\n"
          ]
        },
        {
          "output_type": "display_data",
          "data": {
            "text/plain": [
              "<Figure size 432x288 with 1 Axes>"
            ],
            "image/png": "[encoded data removed]"
          },
          "metadata": {
            "needs_background": "light"
          }
        },
        {
          "output_type": "stream",
          "name": "stdout",
          "text": [
            "-------------------------\n",
            "Severe lung with infection rate 40.84584401318199\n"
          ]
        },
        {
          "output_type": "display_data",
          "data": {
            "text/plain": [
              "<Figure size 432x288 with 1 Axes>"
            ],
            "image/png": "[encoded data removed]"
          },
          "metadata": {
            "needs_background": "light"
          }
        },
        {
          "output_type": "stream",
          "name": "stdout",
          "text": [
            "-------------------------\n"
          ]
        }
      ]
    }
  ]
}
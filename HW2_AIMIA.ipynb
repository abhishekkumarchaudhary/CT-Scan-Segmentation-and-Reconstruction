{
  "nbformat": 4,
  "nbformat_minor": 0,
  "metadata": {
    "colab": {
      "provenance": []
    },
    "kernelspec": {
      "name": "python3",
      "display_name": "Python 3"
    },
    "language_info": {
      "name": "python"
    }
  },
  "cells": [
    {
      "cell_type": "markdown",
      "source": [
        "# Q1"
      ],
      "metadata": {
        "id": "1vRENo7WV4XR"
      }
    },
    {
      "cell_type": "markdown",
      "source": [
        "Importing libraries:"
      ],
      "metadata": {
        "id": "z_8US9YABws8"
      }
    },
    {
      "cell_type": "code",
      "source": [
        "from sklearn.model_selection import GridSearchCV\n",
        "from sklearn.model_selection import StratifiedShuffleSplit"
      ],
      "metadata": {
        "id": "HOYSCsWv72xE"
      },
      "execution_count": 34,
      "outputs": []
    },
    {
      "cell_type": "code",
      "execution_count": 1,
      "metadata": {
        "colab": {
          "base_uri": "https://localhost:8080/"
        },
        "id": "160ujrQxJ7xR",
        "outputId": "cb7a3f2a-1c06-4e35-de53-bc11c708125f"
      },
      "outputs": [
        {
          "output_type": "stream",
          "name": "stdout",
          "text": [
            "Mounted at /content/drive/\n"
          ]
        }
      ],
      "source": [
        "from google.colab import drive\n",
        "import scipy.io\n",
        "drive.mount('/content/drive/')\n",
        "import warnings\n",
        "warnings.filterwarnings('ignore')"
      ]
    },
    {
      "cell_type": "markdown",
      "source": [
        "Reading data:"
      ],
      "metadata": {
        "id": "T9H40KWwB0IA"
      }
    },
    {
      "cell_type": "code",
      "source": [
        "mask_data = scipy.io.loadmat(\"/content/drive/MyDrive/Data/HW2_AIMIA/ctscan_embeddings_hw2.mat\")"
      ],
      "metadata": {
        "id": "dm7yiAbmLoQo"
      },
      "execution_count": 2,
      "outputs": []
    },
    {
      "cell_type": "code",
      "source": [
        "print(mask_data)"
      ],
      "metadata": {
        "colab": {
          "base_uri": "https://localhost:8080/"
        },
        "id": "MzABS5CFM1EN",
        "outputId": "3a8dd4f0-fb14-477a-9d65-ae775f4c3bd2"
      },
      "execution_count": 3,
      "outputs": [
        {
          "output_type": "stream",
          "name": "stdout",
          "text": [
            "{'__header__': b'MATLAB 5.0 MAT-file Platform: posix, Created on: Sat Nov 12 11:25:06 2022', '__version__': '1.0', '__globals__': [], 'feat': array([[0.30272228, 0.27103782, 0.26932836, ..., 0.21070398, 0.2310063 ,\n",
            "        0.28865176],\n",
            "       [0.28252736, 0.24100533, 0.23350462, ..., 0.18705425, 0.21686532,\n",
            "        0.30654934],\n",
            "       [0.282926  , 0.24257973, 0.23520353, ..., 0.18761976, 0.21674038,\n",
            "        0.30464453],\n",
            "       ...,\n",
            "       [0.30039877, 0.26810023, 0.26617604, ..., 0.20713861, 0.22802743,\n",
            "        0.28914464],\n",
            "       [0.28513998, 0.24721071, 0.24088961, ..., 0.1896681 , 0.21658203,\n",
            "        0.29945922],\n",
            "       [0.28252736, 0.24100533, 0.23350462, ..., 0.18705425, 0.21686532,\n",
            "        0.30654934]], dtype=float32)}\n"
          ]
        }
      ]
    },
    {
      "cell_type": "code",
      "source": [
        "print(mask_data.keys())"
      ],
      "metadata": {
        "colab": {
          "base_uri": "https://localhost:8080/"
        },
        "id": "N9IohAtcL9Vq",
        "outputId": "295ec156-3c4a-4925-e223-299aeb63b64e"
      },
      "execution_count": 4,
      "outputs": [
        {
          "output_type": "stream",
          "name": "stdout",
          "text": [
            "dict_keys(['__header__', '__version__', '__globals__', 'feat'])\n"
          ]
        }
      ]
    },
    {
      "cell_type": "code",
      "source": [
        "data=mask_data.get('feat')"
      ],
      "metadata": {
        "id": "GZwPxrCgM0Ov"
      },
      "execution_count": 5,
      "outputs": []
    },
    {
      "cell_type": "code",
      "source": [
        "print(data.shape)"
      ],
      "metadata": {
        "colab": {
          "base_uri": "https://localhost:8080/"
        },
        "id": "FO_6ujWENW3f",
        "outputId": "ca81c79e-1a3d-434e-9a62-6e5b585c572d"
      },
      "execution_count": 6,
      "outputs": [
        {
          "output_type": "stream",
          "name": "stdout",
          "text": [
            "(3554, 1024)\n"
          ]
        }
      ]
    },
    {
      "cell_type": "markdown",
      "source": [
        "PCA for 100 and 50 dimentions:"
      ],
      "metadata": {
        "id": "q41CTHYrOd9V"
      }
    },
    {
      "cell_type": "code",
      "source": [
        "# importing required libraries\n",
        "import numpy as np\n",
        "import matplotlib.pyplot as plt\n",
        "import pandas as pd\n",
        "from sklearn.model_selection import train_test_split\n",
        "from sklearn.preprocessing import StandardScaler\n",
        "sc = StandardScaler()\n",
        "X_train=data\n",
        "# X_train = sc.fit_transform(X_train)"
      ],
      "metadata": {
        "id": "JSdtNRsmNac_"
      },
      "execution_count": 9,
      "outputs": []
    },
    {
      "cell_type": "code",
      "source": [
        "# Applying PCA function on training\n",
        "# and testing set of X component\n",
        "from sklearn.decomposition import PCA\n",
        "pca100 = PCA(n_components = 100)\n",
        "X_train100 = pca100.fit_transform(X_train)"
      ],
      "metadata": {
        "id": "z60Ctic_O9ID"
      },
      "execution_count": 11,
      "outputs": []
    },
    {
      "cell_type": "code",
      "source": [
        "X_train100.shape"
      ],
      "metadata": {
        "colab": {
          "base_uri": "https://localhost:8080/"
        },
        "id": "yYUeTgqVP4Bm",
        "outputId": "610384c4-15a7-4b53-b490-f599c8c56c62"
      },
      "execution_count": 13,
      "outputs": [
        {
          "output_type": "execute_result",
          "data": {
            "text/plain": [
              "(3554, 100)"
            ]
          },
          "metadata": {},
          "execution_count": 13
        }
      ]
    },
    {
      "cell_type": "code",
      "source": [
        "X_train100_reconstructed = pca100.inverse_transform(X_train100)\n",
        "loss = np.sum((X_train - X_train100_reconstructed) ** 2,axis=1).mean()\n",
        "print(loss)"
      ],
      "metadata": {
        "colab": {
          "base_uri": "https://localhost:8080/"
        },
        "id": "SzFjFbHJP1xZ",
        "outputId": "38b5cb16-bf18-4c43-ff09-197852abe40f"
      },
      "execution_count": 14,
      "outputs": [
        {
          "output_type": "stream",
          "name": "stdout",
          "text": [
            "1.2781538\n"
          ]
        }
      ]
    },
    {
      "cell_type": "markdown",
      "source": [
        "Reconstruction MSE loss for PCA:"
      ],
      "metadata": {
        "id": "KKF6NKqSB32L"
      }
    },
    {
      "cell_type": "code",
      "source": [
        "from sklearn.metrics import mean_squared_error\n",
        "mean_squared_error(X_train, X_train100_reconstructed)"
      ],
      "metadata": {
        "colab": {
          "base_uri": "https://localhost:8080/"
        },
        "id": "XvGfCiQcSlMf",
        "outputId": "c81734ad-6e8f-4d26-8edc-766f0c5f9219"
      },
      "execution_count": 15,
      "outputs": [
        {
          "output_type": "execute_result",
          "data": {
            "text/plain": [
              "0.0012481969"
            ]
          },
          "metadata": {},
          "execution_count": 15
        }
      ]
    },
    {
      "cell_type": "code",
      "source": [
        "pca50 = PCA(n_components = 50)\n",
        "X_train50 = pca50.fit_transform(X_train)\n",
        "X_train50_reconstructed = pca50.inverse_transform(X_train50)\n",
        "mean_squared_error(X_train, X_train50_reconstructed)"
      ],
      "metadata": {
        "colab": {
          "base_uri": "https://localhost:8080/"
        },
        "id": "vDVJIC-cPC5n",
        "outputId": "9c7b01f0-5065-4917-aa2b-d9daaac8a0e1"
      },
      "execution_count": 72,
      "outputs": [
        {
          "output_type": "execute_result",
          "data": {
            "text/plain": [
              "0.00304137"
            ]
          },
          "metadata": {},
          "execution_count": 72
        }
      ]
    },
    {
      "cell_type": "code",
      "source": [
        "l=[]\n",
        "for i in range(20,1040,20):\n",
        "  pca = PCA(n_components = i)\n",
        "  X_train_i = pca.fit_transform(X_train)\n",
        "  X_train_reconstructed = pca.inverse_transform(X_train_i)\n",
        "  l.append(mean_squared_error(X_train, X_train_reconstructed))"
      ],
      "metadata": {
        "id": "Iv839vW7Ti42"
      },
      "execution_count": 73,
      "outputs": []
    },
    {
      "cell_type": "code",
      "source": [
        "X=range(20,1040,20)\n",
        "plt.plot(X,l,label='PCA reconstruction error')\n",
        "plt.legend()\n",
        "plt.title(\"PCA reconstruction error\")\n",
        "plt.xlabel(\"Number of components\")\n",
        "plt.ylabel(\"Reconstruction error\")\n",
        "plt.show()"
      ],
      "metadata": {
        "id": "-WieMilaT9xp",
        "colab": {
          "base_uri": "https://localhost:8080/",
          "height": 295
        },
        "outputId": "748e9a97-6673-4633-964b-d42a93da3a7c"
      },
      "execution_count": 75,
      "outputs": [
        {
          "output_type": "display_data",
          "data": {
            "text/plain": [
              "<Figure size 432x288 with 1 Axes>"
            ],
            "image/png": "[encoded data removed]"
          },
          "metadata": {
            "needs_background": "light"
          }
        }
      ]
    },
    {
      "cell_type": "markdown",
      "source": [
        "# Q2"
      ],
      "metadata": {
        "id": "2RgOgyftV8Yd"
      }
    },
    {
      "cell_type": "markdown",
      "source": [
        "Choosing PCA size by elbow method. Above 300 components there is no gain:"
      ],
      "metadata": {
        "id": "xoZnu910_jRX"
      }
    },
    {
      "cell_type": "code",
      "source": [
        "PCA_components = 300"
      ],
      "metadata": {
        "id": "kH2RbGQ_VfXs"
      },
      "execution_count": 7,
      "outputs": []
    },
    {
      "cell_type": "code",
      "source": [
        "pca = PCA(n_components = PCA_components)\n",
        "X_train_i = pca.fit_transform(X_train)\n",
        "X_train_reconstructed = pca.inverse_transform(X_train_i)\n",
        "mean_squared_error(X_train, X_train_reconstructed)"
      ],
      "metadata": {
        "colab": {
          "base_uri": "https://localhost:8080/"
        },
        "id": "7srnwDT5Wh2m",
        "outputId": "216573eb-decb-457d-9ed4-0213b619c0ec"
      },
      "execution_count": 16,
      "outputs": [
        {
          "output_type": "execute_result",
          "data": {
            "text/plain": [
              "0.00015096157"
            ]
          },
          "metadata": {},
          "execution_count": 16
        }
      ]
    },
    {
      "cell_type": "markdown",
      "source": [
        "Finding labels using infection area:"
      ],
      "metadata": {
        "id": "D6d_XfFoB-DQ"
      }
    },
    {
      "cell_type": "code",
      "source": [
        "mask_data = scipy.io.loadmat(\"/content/drive/MyDrive/Data/HW/infmsk_hw1.mat\")\n",
        "mask = mask_data['infmsk']\n",
        "print(mask.shape[2])\n",
        "background_ctr = []\n",
        "infection_ctr = []\n",
        "healthy_ctr = []\n",
        "mask=np.swapaxes(mask,0,2)\n",
        "print(mask.shape)\n",
        "for i in range(mask.shape[0]):\n",
        "  background_ctr.append(np.count_nonzero(mask[i,:,:] == 0))\n",
        "  infection_ctr.append(np.count_nonzero(mask[i,:,:] == 1))\n",
        "  healthy_ctr.append(np.count_nonzero(mask[i,:,:] == 2))\n",
        "infection_rate = []\n",
        "category=[]\n",
        "for i in range(mask.shape[0]):\n",
        "  inf_rate = (infection_ctr[i]/(infection_ctr[i]+healthy_ctr[i])) * 100\n",
        "  infection_rate.append(inf_rate)\n",
        "for i in range(len(infection_rate)):\n",
        "  if(infection_rate[i] == 0.0):\n",
        "    category.append(0)\n",
        "  if(infection_rate[i]> 0.0 and infection_rate[i] <= 40.0):\n",
        "    category.append(1)\n",
        "  if(infection_rate[i] > 40.0):\n",
        "    category.append(2)"
      ],
      "metadata": {
        "colab": {
          "base_uri": "https://localhost:8080/"
        },
        "id": "vDHfjwcYZO-R",
        "outputId": "e8181472-7ce0-4ed7-d449-499224a01b42"
      },
      "execution_count": 17,
      "outputs": [
        {
          "output_type": "stream",
          "name": "stdout",
          "text": [
            "3554\n",
            "(3554, 512, 512)\n"
          ]
        }
      ]
    },
    {
      "cell_type": "code",
      "source": [
        "y=category"
      ],
      "metadata": {
        "id": "GvFdzlAfZhaz"
      },
      "execution_count": 18,
      "outputs": []
    },
    {
      "cell_type": "markdown",
      "source": [
        "20% as test data:"
      ],
      "metadata": {
        "id": "gSXhROoXCG6z"
      }
    },
    {
      "cell_type": "code",
      "source": [
        "X_train, X_test, y_train, y_test = train_test_split(X_train_i, y, test_size=0.20, random_state=42, shuffle=True)"
      ],
      "metadata": {
        "id": "q1Tum9TbXhyd"
      },
      "execution_count": 19,
      "outputs": []
    },
    {
      "cell_type": "code",
      "source": [
        "# X_train, X_val, y_train, y_val = train_test_split(X_train, y_train, test_size=0.125, random_state=42, shuffle=True)"
      ],
      "metadata": {
        "id": "koLXFYCHaGIs"
      },
      "execution_count": 20,
      "outputs": []
    },
    {
      "cell_type": "code",
      "source": [
        "y_train=np.array(y_train)\n",
        "y_train=np.reshape(y_train,(y_train.shape[0],1))\n",
        "y_train.shape"
      ],
      "metadata": {
        "colab": {
          "base_uri": "https://localhost:8080/"
        },
        "id": "a2Hjr8ct365s",
        "outputId": "edea3049-500a-4c4c-fced-dff9233b02f9"
      },
      "execution_count": 21,
      "outputs": [
        {
          "output_type": "execute_result",
          "data": {
            "text/plain": [
              "(2843, 1)"
            ]
          },
          "metadata": {},
          "execution_count": 21
        }
      ]
    },
    {
      "cell_type": "markdown",
      "source": [
        "Trying SVM without any hyperparameter tuning:"
      ],
      "metadata": {
        "id": "eVoecTLOCC5M"
      }
    },
    {
      "cell_type": "code",
      "source": [
        "# import support vector classifier \n",
        "# \"Support Vector Classifier\"\n",
        "from sklearn.svm import SVC"
      ],
      "metadata": {
        "id": "nMM9-S2h1pnQ"
      },
      "execution_count": 22,
      "outputs": []
    },
    {
      "cell_type": "code",
      "source": [
        "linear = SVC(kernel='linear', C=1, decision_function_shape='ovo').fit(X_train, y_train)\n",
        "rbf = SVC(kernel='rbf', gamma=1, C=1, decision_function_shape='ovo').fit(X_train, y_train)"
      ],
      "metadata": {
        "id": "8JYGJWDKak_I"
      },
      "execution_count": 26,
      "outputs": []
    },
    {
      "cell_type": "code",
      "source": [
        "y_train.shape"
      ],
      "metadata": {
        "colab": {
          "base_uri": "https://localhost:8080/"
        },
        "id": "0vgHypHTA8us",
        "outputId": "7c5fb6e1-8ed7-4335-d726-94cdc34f0a99"
      },
      "execution_count": 23,
      "outputs": [
        {
          "output_type": "execute_result",
          "data": {
            "text/plain": [
              "(2843, 1)"
            ]
          },
          "metadata": {},
          "execution_count": 23
        }
      ]
    },
    {
      "cell_type": "code",
      "source": [
        "from sklearn.metrics import f1_score, accuracy_score\n",
        "y_pred = linear.predict(X_test)\n",
        "y_pred=np.reshape(y_pred,(y_pred.shape[0],1))\n",
        "f1 = f1_score(y_test, y_pred, average=None)\n",
        "print('F1 score: ', f1)\n",
        "acc = accuracy_score(y_test, y_pred)\n",
        "print('Accuracy: ',acc)"
      ],
      "metadata": {
        "colab": {
          "base_uri": "https://localhost:8080/"
        },
        "id": "TbyKbmhw3Kqs",
        "outputId": "07c38fdd-de24-45f8-cefb-09505af82113"
      },
      "execution_count": 27,
      "outputs": [
        {
          "output_type": "stream",
          "name": "stdout",
          "text": [
            "F1 score:  [0.93968254 0.94878706 0.92      ]\n",
            "Accuracy:  0.9437412095639943\n"
          ]
        }
      ]
    },
    {
      "cell_type": "code",
      "source": [
        "y_pred = rbf.predict(X_test)\n",
        "y_pred=np.reshape(y_pred,(y_pred.shape[0],1))\n",
        "f1 = f1_score(y_test, y_pred, average=None)\n",
        "print('F1 score: ', f1)\n",
        "acc = accuracy_score(y_test, y_pred)\n",
        "print('Accuracy: ', acc)"
      ],
      "metadata": {
        "id": "XTpv1p9MC4S_",
        "colab": {
          "base_uri": "https://localhost:8080/"
        },
        "outputId": "0c9ebe2a-4731-456c-9e66-2bcf56bd0c65"
      },
      "execution_count": 57,
      "outputs": [
        {
          "output_type": "stream",
          "name": "stdout",
          "text": [
            "F1 score:  [0.86738351 0.88038278 0.07142857]\n",
            "Accuracy:  0.8593530239099859\n"
          ]
        }
      ]
    },
    {
      "cell_type": "markdown",
      "source": [
        "Hypermarameter tuning for RBF using validation dataset:"
      ],
      "metadata": {
        "id": "MNdwq22q31lz"
      }
    },
    {
      "cell_type": "markdown",
      "source": [
        "Using 10% of entire dataset as validation and using 5-fold cross validation:"
      ],
      "metadata": {
        "id": "u71Yg3ffCL-X"
      }
    },
    {
      "cell_type": "code",
      "source": [
        "C_range = np.logspace(-3, 3, 7)\n",
        "gamma_range = np.logspace(-3, 3, 7)\n",
        "param_grid = dict(gamma=gamma_range, C=C_range)\n",
        "cv = StratifiedShuffleSplit(n_splits=5, test_size=0.125, random_state=42)\n",
        "grid = GridSearchCV(SVC(), param_grid=param_grid, cv=cv) #default is rbf, ovo for multiclass classification\n",
        "grid.fit(X_train, y_train)\n",
        "\n",
        "print(\n",
        "    \"The best parameters are %s with a score of %0.2f\"\n",
        "    % (grid.best_params_, grid.best_score_)\n",
        ")"
      ],
      "metadata": {
        "colab": {
          "base_uri": "https://localhost:8080/"
        },
        "id": "iIy5_sZ831VU",
        "outputId": "96a6d2b1-2207-4707-88da-8d9e1031bb90"
      },
      "execution_count": 58,
      "outputs": [
        {
          "output_type": "stream",
          "name": "stdout",
          "text": [
            "The best parameters are {'C': 1000.0, 'gamma': 0.01} with a score of 0.96\n"
          ]
        }
      ]
    },
    {
      "cell_type": "markdown",
      "source": [
        "Test accuracy and F1:"
      ],
      "metadata": {
        "id": "C3T2lXl5ECjt"
      }
    },
    {
      "cell_type": "code",
      "source": [
        "rbf = SVC(kernel='rbf', gamma=0.01, C=1000, decision_function_shape='ovo').fit(X_train, y_train)\n",
        "y_pred = rbf.predict(X_test)\n",
        "y_pred=np.reshape(y_pred,(y_pred.shape[0],1))\n",
        "f1 = f1_score(y_test, y_pred, average=None)\n",
        "print('F1 score: ', f1)\n",
        "acc = accuracy_score(y_test, y_pred)\n",
        "print('Accuracy: ', acc)"
      ],
      "metadata": {
        "id": "jgyuWdIc_Y5m",
        "colab": {
          "base_uri": "https://localhost:8080/"
        },
        "outputId": "4e1e0007-7ee2-4e0c-d703-3144292cebf1"
      },
      "execution_count": 28,
      "outputs": [
        {
          "output_type": "stream",
          "name": "stdout",
          "text": [
            "F1 score:  [0.96116505 0.96533333 0.92592593]\n",
            "Accuracy:  0.9620253164556962\n"
          ]
        }
      ]
    },
    {
      "cell_type": "code",
      "source": [
        "from sklearn.metrics import confusion_matrix"
      ],
      "metadata": {
        "id": "a-AmgEtQ7lcv"
      },
      "execution_count": 29,
      "outputs": []
    },
    {
      "cell_type": "markdown",
      "source": [
        "Class-wise accuracy:"
      ],
      "metadata": {
        "id": "LDfm5UxYBLtT"
      }
    },
    {
      "cell_type": "code",
      "source": [
        "#Get the confusion matrix\n",
        "cm = confusion_matrix(y_test, y_pred)\n",
        "#Now the normalize the diagonal entries\n",
        "cm = cm.astype('float') / cm.sum(axis=1)[:, np.newaxis]\n",
        "#The diagonal entries are the accuracies of each class\n",
        "cm.diagonal()"
      ],
      "metadata": {
        "colab": {
          "base_uri": "https://localhost:8080/"
        },
        "id": "4v9JKerO6TMg",
        "outputId": "1c87084d-316d-4809-dbc5-8ca978c1446f"
      },
      "execution_count": 30,
      "outputs": [
        {
          "output_type": "execute_result",
          "data": {
            "text/plain": [
              "array([0.95806452, 0.96791444, 0.92592593])"
            ]
          },
          "metadata": {},
          "execution_count": 30
        }
      ]
    },
    {
      "cell_type": "markdown",
      "source": [
        "Train accuracy and F1:"
      ],
      "metadata": {
        "id": "J5P56JKcEH1L"
      }
    },
    {
      "cell_type": "code",
      "source": [
        "y_pred = rbf.predict(X_train)\n",
        "y_pred=np.reshape(y_pred,(y_pred.shape[0],1))\n",
        "f1 = f1_score(y_train, y_pred, average=None)\n",
        "print('F1 score: ', f1)\n",
        "acc = accuracy_score(y_train, y_pred)\n",
        "print('Accuracy: ', acc)"
      ],
      "metadata": {
        "colab": {
          "base_uri": "https://localhost:8080/"
        },
        "id": "dFDgdKelSpIN",
        "outputId": "4bc34065-492c-4d12-dbb7-a972efcf5b0a"
      },
      "execution_count": 31,
      "outputs": [
        {
          "output_type": "stream",
          "name": "stdout",
          "text": [
            "F1 score:  [1. 1. 1.]\n",
            "Accuracy:  1.0\n"
          ]
        }
      ]
    },
    {
      "cell_type": "markdown",
      "source": [
        "Class-wise accuracy:"
      ],
      "metadata": {
        "id": "ZfcBkOQtBRoz"
      }
    },
    {
      "cell_type": "code",
      "source": [
        "#Get the confusion matrix\n",
        "cm = confusion_matrix(y_train, y_pred)\n",
        "#Now the normalize the diagonal entries\n",
        "cm = cm.astype('float') / cm.sum(axis=1)[:, np.newaxis]\n",
        "#The diagonal entries are the accuracies of each class\n",
        "cm.diagonal()"
      ],
      "metadata": {
        "colab": {
          "base_uri": "https://localhost:8080/"
        },
        "id": "O_LP9wGg6dQt",
        "outputId": "5b98799e-1067-4d78-9c1b-39691134c38b"
      },
      "execution_count": 32,
      "outputs": [
        {
          "output_type": "execute_result",
          "data": {
            "text/plain": [
              "array([1., 1., 1.])"
            ]
          },
          "metadata": {},
          "execution_count": 32
        }
      ]
    },
    {
      "cell_type": "markdown",
      "source": [
        "Hyperparameter search for linear kernel:"
      ],
      "metadata": {
        "id": "7aL65gtvTD_m"
      }
    },
    {
      "cell_type": "markdown",
      "source": [
        "Using 10% of dataset as validation and 5-fold cross validation."
      ],
      "metadata": {
        "id": "AhlzwmPLCT49"
      }
    },
    {
      "cell_type": "code",
      "source": [
        "C_range = np.logspace(-3, 3, 7)\n",
        "param_grid = dict(C=C_range)\n",
        "cv = StratifiedShuffleSplit(n_splits=5, test_size=0.125, random_state=42)\n",
        "grid = GridSearchCV(SVC(kernel='linear'), param_grid=param_grid, cv=cv) #default is rbf, ovo for multiclass classification\n",
        "grid.fit(X_train, y_train)\n",
        "\n",
        "print(\n",
        "    \"The best parameters are %s with a score of %0.2f\"\n",
        "    % (grid.best_params_, grid.best_score_)\n",
        ")"
      ],
      "metadata": {
        "colab": {
          "base_uri": "https://localhost:8080/"
        },
        "id": "-nAr0L0zReug",
        "outputId": "a6df3c49-fcda-461b-f70d-0cdf8aeb2cfd"
      },
      "execution_count": 39,
      "outputs": [
        {
          "output_type": "stream",
          "name": "stdout",
          "text": [
            "The best parameters are {'C': 1.0} with a score of 0.92\n"
          ]
        }
      ]
    },
    {
      "cell_type": "markdown",
      "source": [
        "Test accuracy and F1 score:"
      ],
      "metadata": {
        "id": "RRZt0v4PEL3e"
      }
    },
    {
      "cell_type": "code",
      "source": [
        "linear = SVC(kernel='linear', C=1, decision_function_shape='ovo').fit(X_train, y_train)\n",
        "y_pred = linear.predict(X_test)\n",
        "y_pred=np.reshape(y_pred,(y_pred.shape[0],1))\n",
        "f1 = f1_score(y_test, y_pred, average=None)\n",
        "print('F1 score: ', f1)\n",
        "acc = accuracy_score(y_test, y_pred)\n",
        "print('Accuracy: ',acc)"
      ],
      "metadata": {
        "colab": {
          "base_uri": "https://localhost:8080/"
        },
        "id": "jsV0HcMsSFKZ",
        "outputId": "78b21547-17b4-4bfa-d5e7-e5aa96b5542a"
      },
      "execution_count": 35,
      "outputs": [
        {
          "output_type": "stream",
          "name": "stdout",
          "text": [
            "F1 score:  [0.93968254 0.94878706 0.92      ]\n",
            "Accuracy:  0.9437412095639943\n"
          ]
        }
      ]
    },
    {
      "cell_type": "markdown",
      "source": [
        "Class-wise accuracy:"
      ],
      "metadata": {
        "id": "Kni_qJJqBCSE"
      }
    },
    {
      "cell_type": "code",
      "source": [
        "#Get the confusion matrix\n",
        "cm = confusion_matrix(y_test, y_pred)\n",
        "#Now the normalize the diagonal entries\n",
        "cm = cm.astype('float') / cm.sum(axis=1)[:, np.newaxis]\n",
        "#The diagonal entries are the accuracies of each class\n",
        "cm.diagonal()"
      ],
      "metadata": {
        "colab": {
          "base_uri": "https://localhost:8080/"
        },
        "id": "vzX48LZ06pGy",
        "outputId": "75c5bf8b-77d5-48af-966a-a9cf7fc5357d"
      },
      "execution_count": 36,
      "outputs": [
        {
          "output_type": "execute_result",
          "data": {
            "text/plain": [
              "array([0.95483871, 0.94117647, 0.85185185])"
            ]
          },
          "metadata": {},
          "execution_count": 36
        }
      ]
    },
    {
      "cell_type": "markdown",
      "source": [
        "Train set accuracy and F1 score:"
      ],
      "metadata": {
        "id": "Juo1omjVEQh2"
      }
    },
    {
      "cell_type": "code",
      "source": [
        "y_pred = linear.predict(X_train)\n",
        "y_pred=np.reshape(y_pred,(y_pred.shape[0],1))\n",
        "f1 = f1_score(y_train, y_pred, average=None)\n",
        "print('F1 score: ', f1)\n",
        "acc = accuracy_score(y_train, y_pred)\n",
        "print('Accuracy: ',acc)"
      ],
      "metadata": {
        "colab": {
          "base_uri": "https://localhost:8080/"
        },
        "id": "4c07d3faSh87",
        "outputId": "c38a949e-d71c-492d-fdf5-3cb2eb85512f"
      },
      "execution_count": 37,
      "outputs": [
        {
          "output_type": "stream",
          "name": "stdout",
          "text": [
            "F1 score:  [0.95275249 0.96445725 0.96875   ]\n",
            "Accuracy:  0.9599015124868097\n"
          ]
        }
      ]
    },
    {
      "cell_type": "markdown",
      "source": [
        "Class-wise accuracy:"
      ],
      "metadata": {
        "id": "XMHbdco1BEmb"
      }
    },
    {
      "cell_type": "code",
      "source": [
        "#Get the confusion matrix\n",
        "cm = confusion_matrix(y_train, y_pred)\n",
        "#Now the normalize the diagonal entries\n",
        "cm = cm.astype('float') / cm.sum(axis=1)[:, np.newaxis]\n",
        "#The diagonal entries are the accuracies of each class\n",
        "cm.diagonal()"
      ],
      "metadata": {
        "colab": {
          "base_uri": "https://localhost:8080/"
        },
        "id": "NcZsLQhb6rCb",
        "outputId": "578d8861-9371-4f7b-9fa5-262482b71a7a"
      },
      "execution_count": 38,
      "outputs": [
        {
          "output_type": "execute_result",
          "data": {
            "text/plain": [
              "array([0.97170645, 0.95316456, 0.93939394])"
            ]
          },
          "metadata": {},
          "execution_count": 38
        }
      ]
    }
  ]
}
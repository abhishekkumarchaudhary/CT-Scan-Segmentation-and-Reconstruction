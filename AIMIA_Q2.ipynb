{
  "cells": [
    {
      "cell_type": "code",
      "execution_count": null,
      "metadata": {
        "id": "81TAWYOn-weW"
      },
      "outputs": [],
      "source": [
        "import scipy.io\n",
        "from google.colab import drive\n",
        "drive.mount('/content/drive/')\n",
        "input = scipy.io.loadmat(\"/content/drive/MyDrive/Data/HW/ctscan_hw1.mat\")"
      ]
    },
    {
      "cell_type": "code",
      "execution_count": null,
      "metadata": {
        "id": "6kXB0ew2BrPl"
      },
      "outputs": [],
      "source": [
        "import numpy as np\n",
        "ct_scans = input['ctscan']\n",
        "ct_scans = np.array(ct_scans)\n",
        "ct_scans = np.swapaxes(ct_scans,0,2)\n",
        "ct_scans = np.swapaxes(ct_scans,1,2)\n",
        "print(ct_scans.shape)"
      ]
    },
    {
      "cell_type": "code",
      "execution_count": null,
      "metadata": {
        "id": "z7Vwxs5ADBrE"
      },
      "outputs": [],
      "source": [
        "input = scipy.io.loadmat(\"/content/drive/MyDrive/Data/HW/infmsk_hw1.mat\")\n",
        "mask = input['infmsk']\n",
        "mask = np.array(mask)\n",
        "mask = np.swapaxes(mask,0,2)\n",
        "mask = np.swapaxes(mask,1,2)\n",
        "print(mask.shape)"
      ]
    },
    {
      "cell_type": "code",
      "execution_count": null,
      "metadata": {
        "id": "lUkD4YINbDn9"
      },
      "outputs": [],
      "source": [
        "mask=mask[2000:2020,:,:]\n",
        "ct_scans=ct_scans[2000:2020,:,:]\n",
        "size = ct_scans.shape[0]\n",
        "print(size)"
      ]
    },
    {
      "cell_type": "code",
      "execution_count": 20,
      "metadata": {
        "id": "Oq94H6QAEKZP"
      },
      "outputs": [],
      "source": [
        "from sklearn.cluster import KMeans \n",
        "from numpy.ma.core import argsort\n",
        "pred_masks = []\n",
        "a=ct_scans.shape[1]\n",
        "b=ct_scans.shape[2]\n",
        "# m=3000\n",
        "for i in range(ct_scans.shape[0]):\n",
        "  temp = ct_scans[i]/255\n",
        "  kmeans = KMeans(n_clusters=3, random_state=0)\n",
        "  clusters = kmeans.fit_predict(temp.reshape(a*b,1))\n",
        "  temp_pred_mask = clusters.reshape((512,512))\n",
        "  copy=temp_pred_mask\n",
        "  ct=[]\n",
        "  ct.append(np.count_nonzero(temp_pred_mask[:,:] == 0))\n",
        "  ct.append(np.count_nonzero(temp_pred_mask[:,:] == 1))\n",
        "  ct.append(np.count_nonzero(temp_pred_mask[:,:] == 2))\n",
        "\n",
        "  max_val=max(ct)\n",
        "  b1=ct.index(max_val)\n",
        "  mask1=(temp_pred_mask==b1)\n",
        "  copy[mask1]=0\n",
        "\n",
        "  min_val=min(ct)\n",
        "  b2=ct.index(min_val)\n",
        "  mask2=(temp_pred_mask==b2)\n",
        "  copy[mask2]=1\n",
        "\n",
        "  b3=3-b1-b2\n",
        "  mask3=(temp_pred_mask==b3)\n",
        "  copy[mask3]=2\n",
        "\n",
        "  pred_masks.append(copy)"
      ]
    },
    {
      "cell_type": "code",
      "source": [
        "import matplotlib.pyplot as plt\n",
        "index_1=5\n",
        "index_2=9\n",
        "f, plot = plt.subplots(1,3)\n",
        "plot[0].set_title(\"CT Scans\")\n",
        "plot[0].imshow(ct_scans[index_1], cmap='gray')\n",
        "plot[1].set_title(\"expert infection mask\")\n",
        "plot[1].imshow(mask[index_1], cmap='gray')\n",
        "plot[2].set_title(\"Predicted Masks\")\n",
        "plot[2].imshow(pred_masks[index_1], cmap='gray')\n",
        "\n",
        "plt.show()"
      ],
      "metadata": {
        "id": "xX5hf9DrgiPb",
        "outputId": "01acbd38-d641-424a-8b28-a13de9593654",
        "colab": {
          "base_uri": "https://localhost:8080/",
          "height": 162
        }
      },
      "execution_count": 22,
      "outputs": [
        {
          "output_type": "display_data",
          "data": {
            "text/plain": [
              "<Figure size 432x288 with 3 Axes>"
            ],
            "image/png": "[encoded data removed]"
          },
          "metadata": {
            "needs_background": "light"
          }
        }
      ]
    },
    {
      "cell_type": "markdown",
      "metadata": {
        "id": "w4SsjJup2rzh"
      },
      "source": [
        "Dice score, sensitivity, specificity, and accuracy for the normal and\n",
        "infected regions"
      ]
    },
    {
      "cell_type": "code",
      "execution_count": 25,
      "metadata": {
        "id": "OK_AwdJP2p7d"
      },
      "outputs": [],
      "source": [
        "from sklearn.metrics import confusion_matrix\n",
        "import warnings\n",
        "warnings.filterwarnings('ignore')\n",
        "def give_metrics(y, y_pred):\n",
        "\n",
        "  N = y_pred.shape[0]\n",
        "  total_infection_sensitivity = 0\n",
        "  total_infection_specificity = 0\n",
        "  total_infection_accuracy = 0\n",
        "  total_infection_dice_score = 0\n",
        "  \n",
        "  total_normal_sensitivity = 0\n",
        "  total_normal_specificity = 0\n",
        "  total_normal_accuracy = 0\n",
        "  total_normal_dice_score = 0\n",
        "\n",
        "  count_infection_sensitivity = 0               \n",
        "\n",
        "  for i in range(y_pred.shape[0]):\n",
        "    infection_sensitivity = 0\n",
        "    #Getting confusion matrix\n",
        "    confusion_metric = (confusion_matrix(y[i].flatten(), y_pred[i].flatten(),labels=[0,1,2])).T\n",
        "\n",
        "    #Getting TP/FP/FN/TN\n",
        "    TP_infection = confusion_metric[1][1]\n",
        "    TP_normal = confusion_metric[2][2]\n",
        "\n",
        "    TN_infection = confusion_metric[0][0] + confusion_metric[2][0] + confusion_metric[0][2] + confusion_metric[2][2]\n",
        "    TN_normal = confusion_metric[0][0] + confusion_metric[0][1] + confusion_metric[1][0] + confusion_metric[1][1]\n",
        "    \n",
        "    FP_infection = confusion_metric[1][0] + confusion_metric[1][2]\n",
        "    FP_normal = confusion_metric[2][0] + confusion_metric[2][1] \n",
        "\n",
        "    FN_infection = confusion_metric[0][1] + confusion_metric[2][1]\n",
        "    FN_normal = confusion_metric[0][2] + confusion_metric[1][2]\n",
        "        \n",
        "    #calculating metrics    \n",
        "    infection_specificity = (TN_infection)/(TN_infection+FP_infection)\n",
        "    infection_accuracy = (TP_infection+TN_infection)/(TP_infection+TN_infection+FP_infection+FN_infection)\n",
        "    infection_dice_score = (2*TP_infection)/(2*TP_infection + FP_infection + FN_infection)\n",
        "\n",
        "    normal_sensitivity = (TP_normal)/(TP_normal+FN_normal)\n",
        "    normal_specificity = (TN_normal)/(TN_normal+FP_normal)\n",
        "    normal_accuracy = (TP_normal+TN_normal)/(TP_normal+TN_normal+FP_normal+FN_normal)\n",
        "    normal_dice_score = (2*TP_normal)/(2*TP_normal + FP_normal + FN_normal)\n",
        "    \n",
        "    if((TP_infection+FN_infection)!=0):\n",
        "      count_infection_sensitivity += 1\n",
        "      infection_sensitivity = (TP_infection)/(TP_infection+FN_infection)\n",
        "    \n",
        "    # normal_sensitivity = 0\n",
        "    # if((normal_TP+infectio_FN)!=0):\n",
        "    #   count_infection_sensitivity += 1\n",
        "    #   infection_sensitivity = (infection_TP)/(infection_TP+infection_FN)\n",
        "\n",
        "    total_infection_sensitivity += infection_sensitivity\n",
        "    total_normal_sensitivity += normal_sensitivity\n",
        "    total_infection_specificity += infection_specificity\n",
        "    total_normal_specificity += normal_specificity\n",
        "    total_infection_accuracy += infection_accuracy\n",
        "    total_normal_accuracy += normal_accuracy\n",
        "    total_infection_dice_score += infection_dice_score\n",
        "    total_normal_dice_score += normal_dice_score\n",
        "  #finding avg and printing \n",
        "  print(f\"Averaged dice score = {total_normal_dice_score/N}, sensitivity = {total_normal_sensitivity/N}, \\n specificity = {total_normal_specificity/N}, and accuracy = {total_normal_accuracy/N} for the normal\")\n",
        "  print(f\"\\nAveraged dice score = {total_infection_dice_score/N}, sensitivity = {total_infection_sensitivity/(count_infection_sensitivity+0.0001)}, \\n specificity = {total_infection_specificity/N}, and accuracy = {total_infection_accuracy/N} for the infection\")"
      ]
    },
    {
      "cell_type": "code",
      "execution_count": null,
      "metadata": {
        "id": "gxVTH6fq2w4h"
      },
      "outputs": [],
      "source": [
        "pred_masks = np.array(pred_masks)\n",
        "give_metrics(mask, pred_masks)"
      ]
    }
  ],
  "metadata": {
    "colab": {
      "provenance": []
    },
    "kernelspec": {
      "display_name": "Python 3",
      "name": "python3"
    },
    "language_info": {
      "name": "python"
    }
  },
  "nbformat": 4,
  "nbformat_minor": 0
}